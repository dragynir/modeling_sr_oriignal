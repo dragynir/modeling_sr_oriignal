{
 "cells": [
  {
   "cell_type": "code",
   "execution_count": null,
   "id": "ea73a6c2-a068-457e-a4ed-cc7d59a1a2c1",
   "metadata": {},
   "outputs": [],
   "source": [
    "# train\n",
    "nohup python sr.py -p train -c config/tomo_sr_sr3_16_128_v2.json -enable_wandb -log_wandb_ckpt &"
   ]
  },
  {
   "cell_type": "code",
   "execution_count": null,
   "id": "3b5cccb9-7bd0-4233-bb68-59447c61c6c6",
   "metadata": {},
   "outputs": [],
   "source": [
    "# infer\n",
    "python infer.py -p val -c config/tomo_sr_sr3_16_128_v2.json -enable_wandb -gpu 0 "
   ]
  },
  {
   "cell_type": "markdown",
   "id": "6f6c6da5-0c96-4b8a-93c4-8dec59ec8b8d",
   "metadata": {},
   "source": [
    "## Создание датасета"
   ]
  },
  {
   "cell_type": "code",
   "execution_count": 2,
   "id": "83a454b8-1080-4c1c-b39f-26061d1bc929",
   "metadata": {},
   "outputs": [
    {
     "data": {
      "text/html": [
       "<div>\n",
       "<style scoped>\n",
       "    .dataframe tbody tr th:only-of-type {\n",
       "        vertical-align: middle;\n",
       "    }\n",
       "\n",
       "    .dataframe tbody tr th {\n",
       "        vertical-align: top;\n",
       "    }\n",
       "\n",
       "    .dataframe thead th {\n",
       "        text-align: right;\n",
       "    }\n",
       "</style>\n",
       "<table border=\"1\" class=\"dataframe\">\n",
       "  <thead>\n",
       "    <tr style=\"text-align: right;\">\n",
       "      <th></th>\n",
       "      <th>path</th>\n",
       "      <th>material</th>\n",
       "      <th>split</th>\n",
       "    </tr>\n",
       "  </thead>\n",
       "  <tbody>\n",
       "    <tr>\n",
       "      <th>0</th>\n",
       "      <td>/home/d_korostelev/Projects/super_resolution/d...</td>\n",
       "      <td>sandstone</td>\n",
       "      <td>train</td>\n",
       "    </tr>\n",
       "    <tr>\n",
       "      <th>1</th>\n",
       "      <td>/home/d_korostelev/Projects/super_resolution/d...</td>\n",
       "      <td>sandstone</td>\n",
       "      <td>train</td>\n",
       "    </tr>\n",
       "    <tr>\n",
       "      <th>2</th>\n",
       "      <td>/home/d_korostelev/Projects/super_resolution/d...</td>\n",
       "      <td>sandstone</td>\n",
       "      <td>train</td>\n",
       "    </tr>\n",
       "    <tr>\n",
       "      <th>3</th>\n",
       "      <td>/home/d_korostelev/Projects/super_resolution/d...</td>\n",
       "      <td>sandstone</td>\n",
       "      <td>train</td>\n",
       "    </tr>\n",
       "    <tr>\n",
       "      <th>4</th>\n",
       "      <td>/home/d_korostelev/Projects/super_resolution/d...</td>\n",
       "      <td>sandstone</td>\n",
       "      <td>train</td>\n",
       "    </tr>\n",
       "    <tr>\n",
       "      <th>...</th>\n",
       "      <td>...</td>\n",
       "      <td>...</td>\n",
       "      <td>...</td>\n",
       "    </tr>\n",
       "    <tr>\n",
       "      <th>23995</th>\n",
       "      <td>/home/d_korostelev/Projects/super_resolution/d...</td>\n",
       "      <td>shuffled</td>\n",
       "      <td>valid</td>\n",
       "    </tr>\n",
       "    <tr>\n",
       "      <th>23996</th>\n",
       "      <td>/home/d_korostelev/Projects/super_resolution/d...</td>\n",
       "      <td>shuffled</td>\n",
       "      <td>valid</td>\n",
       "    </tr>\n",
       "    <tr>\n",
       "      <th>23997</th>\n",
       "      <td>/home/d_korostelev/Projects/super_resolution/d...</td>\n",
       "      <td>shuffled</td>\n",
       "      <td>valid</td>\n",
       "    </tr>\n",
       "    <tr>\n",
       "      <th>23998</th>\n",
       "      <td>/home/d_korostelev/Projects/super_resolution/d...</td>\n",
       "      <td>shuffled</td>\n",
       "      <td>valid</td>\n",
       "    </tr>\n",
       "    <tr>\n",
       "      <th>23999</th>\n",
       "      <td>/home/d_korostelev/Projects/super_resolution/d...</td>\n",
       "      <td>shuffled</td>\n",
       "      <td>valid</td>\n",
       "    </tr>\n",
       "  </tbody>\n",
       "</table>\n",
       "<p>24000 rows × 3 columns</p>\n",
       "</div>"
      ],
      "text/plain": [
       "                                                    path   material  split\n",
       "0      /home/d_korostelev/Projects/super_resolution/d...  sandstone  train\n",
       "1      /home/d_korostelev/Projects/super_resolution/d...  sandstone  train\n",
       "2      /home/d_korostelev/Projects/super_resolution/d...  sandstone  train\n",
       "3      /home/d_korostelev/Projects/super_resolution/d...  sandstone  train\n",
       "4      /home/d_korostelev/Projects/super_resolution/d...  sandstone  train\n",
       "...                                                  ...        ...    ...\n",
       "23995  /home/d_korostelev/Projects/super_resolution/d...   shuffled  valid\n",
       "23996  /home/d_korostelev/Projects/super_resolution/d...   shuffled  valid\n",
       "23997  /home/d_korostelev/Projects/super_resolution/d...   shuffled  valid\n",
       "23998  /home/d_korostelev/Projects/super_resolution/d...   shuffled  valid\n",
       "23999  /home/d_korostelev/Projects/super_resolution/d...   shuffled  valid\n",
       "\n",
       "[24000 rows x 3 columns]"
      ]
     },
     "execution_count": 2,
     "metadata": {},
     "output_type": "execute_result"
    }
   ],
   "source": [
    "import pandas as pd\n",
    "\n",
    "df = pd.read_csv('/home/d_korostelev/Projects/super_resolution/data/v1_dataset_DeepRockSR.csv')\n",
    "df"
   ]
  },
  {
   "cell_type": "markdown",
   "id": "af2fb25f-750b-4808-875d-e14f0a2264fc",
   "metadata": {},
   "source": [
    "# структура проекта\n",
    "dataset/tomo_train/\n",
    "├── hr_128 # it's same with sr_16_128 directory if you don't have ground-truth images.\n",
    "├── lr_16 # vinilla low resolution images\n",
    "└── sr_16_128 # images ready to super resolution\n",
    "\n",
    "dataset/tomo_val/\n",
    "├── hr_128 # it's same with sr_16_128 directory if you don't have ground-truth images.\n",
    "├── lr_16 # vinilla low resolution images\n",
    "└── sr_16_128 # images ready to super resolution"
   ]
  },
  {
   "cell_type": "code",
   "execution_count": 17,
   "id": "dfdf4543-b26a-4173-9bc1-a285bad665f2",
   "metadata": {},
   "outputs": [
    {
     "name": "stderr",
     "output_type": "stream",
     "text": [
      "2400it [00:30, 79.11it/s]\n"
     ]
    }
   ],
   "source": [
    "from tqdm import tqdm\n",
    "import os\n",
    "from pathlib import Path\n",
    "import cv2\n",
    "\n",
    "def create_sr_image_dataset(df, out_path, orig_size=512, resize_factor=4):\n",
    "        \n",
    "    lr_size = orig_size//resize_factor\n",
    "    orig_folder = os.path.join(out_path, f'hr_{orig_size}')\n",
    "    lr_folder = os.path.join(out_path, f'lr_{lr_size}')\n",
    "    sr_folder = os.path.join(out_path, f'sr_{lr_size}_{orig_size}')\n",
    "     \n",
    "    \n",
    "    for p in [out_path, orig_folder, lr_folder, sr_folder]:\n",
    "        Path(p).mkdir(exist_ok=True, parents=True)\n",
    "\n",
    "    \n",
    "    for i, row in tqdm(df.iterrows()):\n",
    "        orig_image = cv2.imread(row['path'])\n",
    "        sr_image = cv2.resize(orig_image, (orig_size,orig_size))\n",
    "        lr_image = cv2.resize(orig_image, (lr_size,lr_size))\n",
    "        \n",
    "        img_name = os.path.basename(row['path'])\n",
    "        \n",
    "        # print(orig_folder)\n",
    "        cv2.imwrite(os.path.join(orig_folder, img_name), sr_image)\n",
    "        cv2.imwrite(os.path.join(sr_folder, img_name), sr_image)\n",
    "        cv2.imwrite(os.path.join(lr_folder, img_name), lr_image) \n",
    "        \n",
    "\n",
    "\n",
    "df_val = df[df.split == 'test']\n",
    "val_dataset_path = '/home/d_korostelev/Projects/super_resolution/sr_src_original/dataset/tomo/val'\n",
    "!rm -rf {val_dataset_path}\n",
    "create_sr_image_dataset(df_val, out_path=val_dataset_path)"
   ]
  },
  {
   "cell_type": "code",
   "execution_count": 15,
   "id": "2066e561-c336-471c-9766-957df44b9175",
   "metadata": {},
   "outputs": [],
   "source": [
    "!rm -rf {val_dataset_path}"
   ]
  },
  {
   "cell_type": "code",
   "execution_count": 14,
   "id": "92ea3088-3a1a-43e4-8501-5679cbda08ca",
   "metadata": {},
   "outputs": [
    {
     "name": "stderr",
     "output_type": "stream",
     "text": [
      "21600it [10:47, 33.38it/s]\n"
     ]
    }
   ],
   "source": [
    "df_train = df[df.split != 'test']\n",
    "train_dataset_path = '/home/d_korostelev/Projects/super_resolution/sr_src_original/dataset/tomo/train'\n",
    "!rm -rf {train_dataset_path}\n",
    "create_sr_image_dataset(df_train, out_path=train_dataset_path)"
   ]
  },
  {
   "cell_type": "code",
   "execution_count": 19,
   "id": "d160fe9f-5dd4-4255-b740-68080a67087d",
   "metadata": {},
   "outputs": [
    {
     "name": "stdout",
     "output_type": "stream",
     "text": [
      "Wed Sep 21 17:50:37 2022       \n",
      "+-----------------------------------------------------------------------------+\n",
      "| NVIDIA-SMI 515.65.01    Driver Version: 515.65.01    CUDA Version: 11.7     |\n",
      "|-------------------------------+----------------------+----------------------+\n",
      "| GPU  Name        Persistence-M| Bus-Id        Disp.A | Volatile Uncorr. ECC |\n",
      "| Fan  Temp  Perf  Pwr:Usage/Cap|         Memory-Usage | GPU-Util  Compute M. |\n",
      "|                               |                      |               MIG M. |\n",
      "|===============================+======================+======================|\n",
      "|   0  Tesla V100-PCIE...  On   | 00000000:61:00.0 Off |                    0 |\n",
      "| N/A   40C    P0    37W / 250W |  13289MiB / 16384MiB |      0%      Default |\n",
      "|                               |                      |                  N/A |\n",
      "+-------------------------------+----------------------+----------------------+\n",
      "|   1  Tesla V100-PCIE...  On   | 00000000:DB:00.0 Off |                    0 |\n",
      "| N/A   68C    P0   211W / 250W |  11690MiB / 16384MiB |    100%      Default |\n",
      "|                               |                      |                  N/A |\n",
      "+-------------------------------+----------------------+----------------------+\n",
      "                                                                               \n",
      "+-----------------------------------------------------------------------------+\n",
      "| Processes:                                                                  |\n",
      "|  GPU   GI   CI        PID   Type   Process name                  GPU Memory |\n",
      "|        ID   ID                                                   Usage      |\n",
      "|=============================================================================|\n",
      "|    0   N/A  N/A     62148      G   /usr/libexec/Xorg                  63MiB |\n",
      "|    0   N/A  N/A     62369      G   /usr/bin/gnome-shell               38MiB |\n",
      "|    0   N/A  N/A    330430      C   /usr/bin/python3.6              13183MiB |\n",
      "|    1   N/A  N/A     62148      G   /usr/libexec/Xorg                   4MiB |\n",
      "|    1   N/A  N/A    330430      C   /usr/bin/python3.6                459MiB |\n",
      "|    1   N/A  N/A    413908      C   python                          11223MiB |\n",
      "+-----------------------------------------------------------------------------+\n"
     ]
    }
   ],
   "source": [
    "!nvidia-smi"
   ]
  },
  {
   "cell_type": "code",
   "execution_count": 21,
   "id": "a810ea75-6d8b-4689-b2ae-09e385e91215",
   "metadata": {},
   "outputs": [
    {
     "data": {
      "text/plain": [
       "8"
      ]
     },
     "execution_count": 21,
     "metadata": {},
     "output_type": "execute_result"
    }
   ],
   "source": [
    "from random import randrange\n",
    "randrange(0, 12)"
   ]
  },
  {
   "cell_type": "code",
   "execution_count": null,
   "id": "aa677885-01ca-47f6-9eb0-867e06a124d1",
   "metadata": {},
   "outputs": [],
   "source": [
    "# Создание альтернативного датасета (тут только HR картинки - LR картинки в динамике через ресайз"
   ]
  },
  {
   "cell_type": "code",
   "execution_count": 22,
   "id": "fa8239fe-7640-47e4-9383-4a17d8017b5e",
   "metadata": {},
   "outputs": [
    {
     "name": "stderr",
     "output_type": "stream",
     "text": [
      "2400it [01:13, 32.71it/s]\n"
     ]
    }
   ],
   "source": [
    "from tqdm import tqdm\n",
    "import os\n",
    "from pathlib import Path\n",
    "import cv2\n",
    "\n",
    "def create_sr_image_dataset(df, out_path, orig_size=256, resize_factor=4):\n",
    "        \n",
    "    orig_folder = os.path.join(out_path, f'hr_{orig_size}')     \n",
    "    \n",
    "    for p in [out_path, orig_folder]:\n",
    "        Path(p).mkdir(exist_ok=True, parents=True)\n",
    "\n",
    "    for i, row in tqdm(df.iterrows()):\n",
    "        orig_image = cv2.imread(row['path'])\n",
    "        \n",
    "        img_name = os.path.basename(row['path'])\n",
    "        cv2.imwrite(os.path.join(orig_folder, img_name), orig_image)\n",
    "        \n",
    "\n",
    "df_val = df[df.split == 'test']\n",
    "val_dataset_path = '/home/d_korostelev/Projects/super_resolution/sr_src_original/dataset/tomo_hr/val'\n",
    "!rm -rf {val_dataset_path}\n",
    "create_sr_image_dataset(df_val, out_path=val_dataset_path)"
   ]
  },
  {
   "cell_type": "code",
   "execution_count": 24,
   "id": "f1354cd0-b785-40c5-be50-29ecd7eca776",
   "metadata": {},
   "outputs": [
    {
     "name": "stderr",
     "output_type": "stream",
     "text": [
      "21600it [12:23, 29.07it/s]\n"
     ]
    }
   ],
   "source": [
    "df_train = df[df.split != 'test']\n",
    "train_dataset_path = '/home/d_korostelev/Projects/super_resolution/sr_src_original/dataset/tomo_hr/train'\n",
    "!rm -rf {train_dataset_path}\n",
    "create_sr_image_dataset(df_train, out_path=train_dataset_path)"
   ]
  },
  {
   "cell_type": "code",
   "execution_count": 25,
   "id": "b44598a9-d9b8-4b6b-aece-51269405ae25",
   "metadata": {},
   "outputs": [
    {
     "name": "stdout",
     "output_type": "stream",
     "text": [
      "Wed Sep 21 22:19:52 2022       \n",
      "+-----------------------------------------------------------------------------+\n",
      "| NVIDIA-SMI 515.65.01    Driver Version: 515.65.01    CUDA Version: 11.7     |\n",
      "|-------------------------------+----------------------+----------------------+\n",
      "| GPU  Name        Persistence-M| Bus-Id        Disp.A | Volatile Uncorr. ECC |\n",
      "| Fan  Temp  Perf  Pwr:Usage/Cap|         Memory-Usage | GPU-Util  Compute M. |\n",
      "|                               |                      |               MIG M. |\n",
      "|===============================+======================+======================|\n",
      "|   0  Tesla V100-PCIE...  On   | 00000000:61:00.0 Off |                    0 |\n",
      "| N/A   45C    P0    38W / 250W |   1482MiB / 16384MiB |      0%      Default |\n",
      "|                               |                      |                  N/A |\n",
      "+-------------------------------+----------------------+----------------------+\n",
      "|   1  Tesla V100-PCIE...  On   | 00000000:DB:00.0 Off |                    0 |\n",
      "| N/A   67C    P0   186W / 250W |  11235MiB / 16384MiB |     99%      Default |\n",
      "|                               |                      |                  N/A |\n",
      "+-------------------------------+----------------------+----------------------+\n",
      "                                                                               \n",
      "+-----------------------------------------------------------------------------+\n",
      "| Processes:                                                                  |\n",
      "|  GPU   GI   CI        PID   Type   Process name                  GPU Memory |\n",
      "|        ID   ID                                                   Usage      |\n",
      "|=============================================================================|\n",
      "|    0   N/A  N/A     62148      G   /usr/libexec/Xorg                  63MiB |\n",
      "|    0   N/A  N/A     62369      G   /usr/bin/gnome-shell               38MiB |\n",
      "|    0   N/A  N/A    474973      C   /usr/bin/python3                 1375MiB |\n",
      "|    1   N/A  N/A     62148      G   /usr/libexec/Xorg                   4MiB |\n",
      "|    1   N/A  N/A    413908      C   python                          11227MiB |\n",
      "+-----------------------------------------------------------------------------+\n"
     ]
    }
   ],
   "source": [
    "!nvidia-smi"
   ]
  },
  {
   "cell_type": "markdown",
   "id": "29b3f30b-7d6e-4899-b4e1-9b088e863c3a",
   "metadata": {},
   "source": [
    "# Посмотрим на Perseptual loss "
   ]
  },
  {
   "cell_type": "code",
   "execution_count": 17,
   "id": "ba9385bc-bf12-4371-bbe6-79599e5c652f",
   "metadata": {},
   "outputs": [
    {
     "name": "stdout",
     "output_type": "stream",
     "text": [
      "Setting up [LPIPS] perceptual loss: trunk [vgg], v[0.1], spatial [off]\n",
      "Loading model from: /home/d_korostelev/env_torch/lib/python3.7/site-packages/lpips/weights/v0.1/vgg.pth\n"
     ]
    },
    {
     "data": {
      "text/plain": [
       "tensor([[[[0.4945]]]], grad_fn=<AddBackward0>)"
      ]
     },
     "execution_count": 17,
     "metadata": {},
     "output_type": "execute_result"
    }
   ],
   "source": [
    "import lpips\n",
    "# loss_fn_alex = lpips.LPIPS(net='alex') # best forward scores\n",
    "loss_fn_vgg = lpips.LPIPS(net='vgg') # closer to \"traditional\" perceptual loss, when used for optimization\n",
    "\n",
    "import torch\n",
    "img0 = torch.zeros(1,1,64,64) # image should be RGB, IMPORTANT: normalized to [-1,1]\n",
    "img1 = torch.ones(1,1,64,64)\n",
    "d = loss_fn_vgg(img0, img1)\n",
    "d"
   ]
  },
  {
   "cell_type": "code",
   "execution_count": null,
   "id": "e6f666ff-4b0e-4514-850e-0d127f16995a",
   "metadata": {},
   "outputs": [],
   "source": [
    "d"
   ]
  },
  {
   "cell_type": "code",
   "execution_count": 12,
   "id": "2102ed56-38c5-479b-bce8-b1383095fe55",
   "metadata": {},
   "outputs": [
    {
     "name": "stdout",
     "output_type": "stream",
     "text": [
      "torch.Size([1, 3, 1, 1])\n"
     ]
    },
    {
     "data": {
      "text/plain": [
       "tensor([[[[0.4580]],\n",
       "\n",
       "         [[0.4480]],\n",
       "\n",
       "         [[0.4500]]]])"
      ]
     },
     "execution_count": 12,
     "metadata": {},
     "output_type": "execute_result"
    }
   ],
   "source": [
    "sh = torch.Tensor([.458,.448,.450])[None,:,None,None]\n",
    "print(sh.shape)\n",
    "sh"
   ]
  },
  {
   "cell_type": "code",
   "execution_count": 18,
   "id": "aea08103-1319-4f73-b74d-58a26997d745",
   "metadata": {},
   "outputs": [],
   "source": [
    "img0_sh = img0 - sh\n"
   ]
  },
  {
   "cell_type": "code",
   "execution_count": 21,
   "id": "60962071-f199-47c1-9647-823ddb4b9f6a",
   "metadata": {},
   "outputs": [
    {
     "data": {
      "text/plain": [
       "tensor([[-0.4500, -0.4500, -0.4500,  ..., -0.4500, -0.4500, -0.4500],\n",
       "        [-0.4500, -0.4500, -0.4500,  ..., -0.4500, -0.4500, -0.4500],\n",
       "        [-0.4500, -0.4500, -0.4500,  ..., -0.4500, -0.4500, -0.4500],\n",
       "        ...,\n",
       "        [-0.4500, -0.4500, -0.4500,  ..., -0.4500, -0.4500, -0.4500],\n",
       "        [-0.4500, -0.4500, -0.4500,  ..., -0.4500, -0.4500, -0.4500],\n",
       "        [-0.4500, -0.4500, -0.4500,  ..., -0.4500, -0.4500, -0.4500]])"
      ]
     },
     "execution_count": 21,
     "metadata": {},
     "output_type": "execute_result"
    }
   ],
   "source": [
    "img0_sh[0, 2, ...]"
   ]
  },
  {
   "cell_type": "code",
   "execution_count": 30,
   "id": "23c3f87b-b03d-4bf0-b3c4-d00f691aea7d",
   "metadata": {},
   "outputs": [
    {
     "ename": "ValueError",
     "evalue": "axes don't match array",
     "output_type": "error",
     "traceback": [
      "\u001b[0;31m---------------------------------------------------------------------------\u001b[0m",
      "\u001b[0;31mValueError\u001b[0m                                Traceback (most recent call last)",
      "\u001b[0;32m<ipython-input-30-814079ff4727>\u001b[0m in \u001b[0;36m<module>\u001b[0;34m\u001b[0m\n\u001b[1;32m      4\u001b[0m \u001b[0mhr_img\u001b[0m \u001b[0;34m=\u001b[0m \u001b[0mnp\u001b[0m\u001b[0;34m.\u001b[0m\u001b[0mones\u001b[0m\u001b[0;34m(\u001b[0m\u001b[0;34m(\u001b[0m\u001b[0;36m12\u001b[0m\u001b[0;34m,\u001b[0m \u001b[0;36m12\u001b[0m\u001b[0;34m)\u001b[0m\u001b[0;34m)\u001b[0m\u001b[0;34m\u001b[0m\u001b[0;34m\u001b[0m\u001b[0m\n\u001b[1;32m      5\u001b[0m \u001b[0;34m\u001b[0m\u001b[0m\n\u001b[0;32m----> 6\u001b[0;31m \u001b[0mnp\u001b[0m\u001b[0;34m.\u001b[0m\u001b[0mtranspose\u001b[0m\u001b[0;34m(\u001b[0m\u001b[0mnp\u001b[0m\u001b[0;34m.\u001b[0m\u001b[0mconcatenate\u001b[0m\u001b[0;34m(\u001b[0m\u001b[0;34m(\u001b[0m\u001b[0mfake_img\u001b[0m\u001b[0;34m,\u001b[0m \u001b[0msr_img\u001b[0m\u001b[0;34m,\u001b[0m \u001b[0mhr_img\u001b[0m\u001b[0;34m)\u001b[0m\u001b[0;34m,\u001b[0m \u001b[0maxis\u001b[0m\u001b[0;34m=\u001b[0m\u001b[0;36m1\u001b[0m\u001b[0;34m)\u001b[0m\u001b[0;34m,\u001b[0m \u001b[0;34m[\u001b[0m\u001b[0;36m2\u001b[0m\u001b[0;34m,\u001b[0m \u001b[0;36m0\u001b[0m\u001b[0;34m,\u001b[0m \u001b[0;36m1\u001b[0m\u001b[0;34m]\u001b[0m\u001b[0;34m)\u001b[0m\u001b[0;34m\u001b[0m\u001b[0;34m\u001b[0m\u001b[0m\n\u001b[0m",
      "\u001b[0;32m<__array_function__ internals>\u001b[0m in \u001b[0;36mtranspose\u001b[0;34m(*args, **kwargs)\u001b[0m\n",
      "\u001b[0;32m~/env_torch/lib/python3.7/site-packages/numpy/core/fromnumeric.py\u001b[0m in \u001b[0;36mtranspose\u001b[0;34m(a, axes)\u001b[0m\n\u001b[1;32m    658\u001b[0m \u001b[0;34m\u001b[0m\u001b[0m\n\u001b[1;32m    659\u001b[0m     \"\"\"\n\u001b[0;32m--> 660\u001b[0;31m     \u001b[0;32mreturn\u001b[0m \u001b[0m_wrapfunc\u001b[0m\u001b[0;34m(\u001b[0m\u001b[0ma\u001b[0m\u001b[0;34m,\u001b[0m \u001b[0;34m'transpose'\u001b[0m\u001b[0;34m,\u001b[0m \u001b[0maxes\u001b[0m\u001b[0;34m)\u001b[0m\u001b[0;34m\u001b[0m\u001b[0;34m\u001b[0m\u001b[0m\n\u001b[0m\u001b[1;32m    661\u001b[0m \u001b[0;34m\u001b[0m\u001b[0m\n\u001b[1;32m    662\u001b[0m \u001b[0;34m\u001b[0m\u001b[0m\n",
      "\u001b[0;32m~/env_torch/lib/python3.7/site-packages/numpy/core/fromnumeric.py\u001b[0m in \u001b[0;36m_wrapfunc\u001b[0;34m(obj, method, *args, **kwds)\u001b[0m\n\u001b[1;32m     55\u001b[0m \u001b[0;34m\u001b[0m\u001b[0m\n\u001b[1;32m     56\u001b[0m     \u001b[0;32mtry\u001b[0m\u001b[0;34m:\u001b[0m\u001b[0;34m\u001b[0m\u001b[0;34m\u001b[0m\u001b[0m\n\u001b[0;32m---> 57\u001b[0;31m         \u001b[0;32mreturn\u001b[0m \u001b[0mbound\u001b[0m\u001b[0;34m(\u001b[0m\u001b[0;34m*\u001b[0m\u001b[0margs\u001b[0m\u001b[0;34m,\u001b[0m \u001b[0;34m**\u001b[0m\u001b[0mkwds\u001b[0m\u001b[0;34m)\u001b[0m\u001b[0;34m\u001b[0m\u001b[0;34m\u001b[0m\u001b[0m\n\u001b[0m\u001b[1;32m     58\u001b[0m     \u001b[0;32mexcept\u001b[0m \u001b[0mTypeError\u001b[0m\u001b[0;34m:\u001b[0m\u001b[0;34m\u001b[0m\u001b[0;34m\u001b[0m\u001b[0m\n\u001b[1;32m     59\u001b[0m         \u001b[0;31m# A TypeError occurs if the object does have such a method in its\u001b[0m\u001b[0;34m\u001b[0m\u001b[0;34m\u001b[0m\u001b[0;34m\u001b[0m\u001b[0m\n",
      "\u001b[0;31mValueError\u001b[0m: axes don't match array"
     ]
    }
   ],
   "source": [
    "import numpy as np\n",
    "fake_img = np.ones((12, 12))\n",
    "sr_img = np.ones((12, 12))\n",
    "hr_img = np.ones((12, 12))\n",
    "\n",
    "np.transpose(np.concatenate((fake_img, sr_img, hr_img), axis=1), [2, 0, 1])"
   ]
  },
  {
   "cell_type": "code",
   "execution_count": null,
   "id": "c6f5b71f-0aea-427d-ac60-fc78ff0eb832",
   "metadata": {},
   "outputs": [],
   "source": []
  }
 ],
 "metadata": {
  "kernelspec": {
   "display_name": "Python 3",
   "language": "python",
   "name": "python3"
  },
  "language_info": {
   "codemirror_mode": {
    "name": "ipython",
    "version": 3
   },
   "file_extension": ".py",
   "mimetype": "text/x-python",
   "name": "python",
   "nbconvert_exporter": "python",
   "pygments_lexer": "ipython3",
   "version": "3.7.12"
  }
 },
 "nbformat": 4,
 "nbformat_minor": 5
}
